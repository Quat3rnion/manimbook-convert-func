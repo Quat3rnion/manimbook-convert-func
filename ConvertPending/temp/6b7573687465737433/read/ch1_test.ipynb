{
 "cells": [
  {
   "cell_type": "code",
   "execution_count": 4,
   "id": "7109e562-0342-434b-8d8c-420a05949761",
   "metadata": {},
   "outputs": [],
   "source": [
    "from manim import *\n",
    "import numpy as np\n",
    "config.media_width = \"75%\"\n",
    "config.verbosity = \"ERROR\"\n",
    "config.background_color = \"#111111\"\n",
    "config.flush_cache = True"
   ]
  },
  {
   "cell_type": "markdown",
   "id": "89e7a9f3-a4f0-4a9b-b93c-540465eecf76",
   "metadata": {},
   "source": [
    "# Test\n",
    "\n",
    "this is a test"
   ]
  },
  {
   "cell_type": "code",
   "execution_count": 5,
   "id": "94eff768-7f23-490c-9464-29da561f7974",
   "metadata": {},
   "outputs": [
    {
     "name": "stderr",
     "output_type": "stream",
     "text": [
      "                                                                                          \r"
     ]
    },
    {
     "data": {
      "text/html": [
       "<video src=\"media/jupyter/AnimatedSquareToCircle@2023-01-04@12-17-52.mp4\" controls autoplay loop style=\"max-width: 75%;\"  >\n",
       "      Your browser does not support the <code>video</code> element.\n",
       "    </video>"
      ],
      "text/plain": [
       "<IPython.core.display.Video object>"
      ]
     },
     "metadata": {},
     "output_type": "display_data"
    }
   ],
   "source": [
    "%%manim -qm AnimatedSquareToCircle\n",
    "\n",
    "class AnimatedSquareToCircle(Scene):\n",
    "    def construct(self):\n",
    "        circle = Circle()  # create a circle\n",
    "        square = Square()  # create a square\n",
    "\n",
    "        self.play(Create(square))  # show the square on screen\n",
    "        self.play(square.animate.rotate(PI / 4))  # rotate the square\n",
    "        self.play(\n",
    "            ReplacementTransform(square, circle)\n",
    "        )  # transform the square into a circle\n",
    "        self.play(\n",
    "            circle.animate.set_fill(PINK, opacity=0.5)\n",
    "        )  # color the circle on screen"
   ]
  },
  {
   "cell_type": "code",
   "execution_count": 6,
   "id": "9ce6932c-1099-4bfe-a0ed-d852cda1822f",
   "metadata": {},
   "outputs": [
    {
     "name": "stderr",
     "output_type": "stream",
     "text": [
      "                                                            \r"
     ]
    },
    {
     "data": {
      "text/html": [
       "<video src=\"media/jupyter/SineCosine_Curve@2023-01-04@12-18-11.mp4\" controls autoplay loop style=\"max-width: 75%;\"  >\n",
       "      Your browser does not support the <code>video</code> element.\n",
       "    </video>"
      ],
      "text/plain": [
       "<IPython.core.display.Video object>"
      ]
     },
     "metadata": {},
     "output_type": "display_data"
    }
   ],
   "source": [
    "%%manim -qm SineCosine_Curve\n",
    "\n",
    "class SineCosine_Curve(Scene):\n",
    "    def construct(self):\n",
    "        self.show_axis()\n",
    "        self.show_circle()\n",
    "        self.move_dot_and_draw_curve()\n",
    "        self.wait()\n",
    "\n",
    "    def show_axis(self):\n",
    "        x_start = np.array([-6,2,0])\n",
    "        x_end = np.array([3,2,0])\n",
    "\n",
    "        y_start = np.array([-4,-3,0])\n",
    "        y_end = np.array([-4,3.5,0])\n",
    "\n",
    "        x_axis = Line(x_start, x_end)\n",
    "        y_axis = Line(y_start, y_end)\n",
    "\n",
    "        self.add(x_axis, y_axis)\n",
    "        self.add_xy_labels()\n",
    "\n",
    "        self.orgin_point = np.array([-4,2,0])\n",
    "        self.curve_start = np.array([-3,2,0])\n",
    "\n",
    "    def add_xy_labels(self):\n",
    "        x_labels = [\n",
    "            MathTex(\"\\pi\"), MathTex(\"2 \\pi\"),\n",
    "            MathTex(\"3 \\pi\"), MathTex(\"4 \\pi\"),\n",
    "        ]\n",
    "\n",
    "        y_labels = [\n",
    "            MathTex(\"\\pi\"), MathTex(\"2 \\pi\"),\n",
    "            MathTex(\"3 \\pi\"), MathTex(\"4 \\pi\"),\n",
    "        ]\n",
    "\n",
    "        for i in range(len(x_labels)):  # -2 -1 0 1\n",
    "            x_labels[i].scale(0.6)\n",
    "            x_labels[i].next_to(np.array([-2+i,2,0]), DOWN )\n",
    "            self.add(x_labels[i])\n",
    "\n",
    "        for i in range(len(y_labels)):  # 1 0 -1 -2\n",
    "            y_labels[i].scale(0.6)\n",
    "            y_labels[i].rotate(-PI/2)\n",
    "            y_labels[i].next_to(np.array([-4, 1-i,0]), LEFT )\n",
    "            self.add(y_labels[i])\n",
    "\n",
    "    def show_circle(self):\n",
    "        circle = Circle(radius=1)\n",
    "        circle.move_to(self.orgin_point)\n",
    "\n",
    "        self.add(circle)\n",
    "        self.circle = circle\n",
    "\n",
    "    def move_dot_and_draw_curve(self):\n",
    "        orbit = self.circle\n",
    "        orgin_point = self.orgin_point\n",
    "\n",
    "        dot = Dot(radius=0.08, color=YELLOW)\n",
    "        dot.move_to(orbit.point_from_proportion(0))\n",
    "        self.t_offset = 0\n",
    "        rate = 0.25\n",
    "\n",
    "        def go_around_circle(mob, dt):\n",
    "            self.t_offset += (dt * rate)\n",
    "            mob.move_to(orbit.point_from_proportion(self.t_offset % 1))\n",
    "\n",
    "        def get_line_to_circle():\n",
    "            return Line(orgin_point, dot.get_center(), color=BLUE)\n",
    "\n",
    "        ### sine\n",
    "        def get_line_to_sine():\n",
    "            x = self.curve_start[0] + self.t_offset * 2\n",
    "            y = dot.get_center()[1]\n",
    "            return Line(dot.get_center(), np.array([x,y,0]), color=YELLOW_A, stroke_width=2 )\n",
    "\n",
    "        self.sine_curve = VGroup()\n",
    "        self.sine_curve.add(Line(self.curve_start,self.curve_start))\n",
    "        def get_sine_curve():\n",
    "            last_line = self.sine_curve[-1]\n",
    "            x = self.curve_start[0] + self.t_offset * 2\n",
    "            y = dot.get_center()[1]\n",
    "            new_line = Line(last_line.get_end(),np.array([x,y,0]), color=YELLOW_D)\n",
    "            self.sine_curve.add(new_line)\n",
    "\n",
    "            return self.sine_curve\n",
    "\n",
    "        ### cosine\n",
    "        def get_line_to_cosine():\n",
    "            x = dot.get_center()[0]\n",
    "            y = self.curve_start[1] - self.t_offset * 2\n",
    "            return Line(dot.get_center(), np.array([x,y,0]), color=YELLOW_A, stroke_width=2 )\n",
    "\n",
    "        self.cosine_curve = VGroup()\n",
    "        self.cosine_curve.add(Line(self.curve_start, self.curve_start))\n",
    "\n",
    "        def get_cosine_curve():\n",
    "            last_line = self.cosine_curve[-1]\n",
    "            x = dot.get_center()[0]\n",
    "            y = self.curve_start[1] - self.t_offset * 2\n",
    "            new_line = Line(last_line.get_end(), np.array([x, y, 0]), color=YELLOW_D)\n",
    "            self.cosine_curve.add(new_line)\n",
    "\n",
    "            return self.cosine_curve\n",
    "\n",
    "\n",
    "        dot.add_updater(go_around_circle) #move dot around the circle\n",
    "\n",
    "        origin_to_circle_line = always_redraw(get_line_to_circle) # from circle origin to dot\n",
    "\n",
    "        dot_to_sine_line = always_redraw(get_line_to_sine) # from dot to sine curve\n",
    "        sine_curve_line = always_redraw(get_sine_curve) # sine curve\n",
    "\n",
    "        dot_to_cosine_line = always_redraw(get_line_to_cosine)  # from dot to cosine curve\n",
    "        cosine_curve_line = always_redraw(get_cosine_curve)  # cosine curve\n",
    "\n",
    "        self.add(dot, orbit)\n",
    "        self.add(origin_to_circle_line,\n",
    "                 dot_to_sine_line, sine_curve_line,\n",
    "                 dot_to_cosine_line, cosine_curve_line,\n",
    "         )\n",
    "        self.wait(8.5)\n",
    "\n",
    "        dot.remove_updater(go_around_circle)"
   ]
  },
  {
   "cell_type": "markdown",
   "id": "19261ad4-0723-456b-b761-4b635a5d7a99",
   "metadata": {},
   "source": []
  }
 ],
 "metadata": {
  "kernelspec": {
   "display_name": "Python 3 (ipykernel)",
   "language": "python",
   "name": "python3"
  },
  "language_info": {
   "codemirror_mode": {
    "name": "ipython",
    "version": 3
   },
   "file_extension": ".py",
   "mimetype": "text/x-python",
   "name": "python",
   "nbconvert_exporter": "python",
   "pygments_lexer": "ipython3",
   "version": "3.10.6"
  }
 },
 "nbformat": 4,
 "nbformat_minor": 5
}
